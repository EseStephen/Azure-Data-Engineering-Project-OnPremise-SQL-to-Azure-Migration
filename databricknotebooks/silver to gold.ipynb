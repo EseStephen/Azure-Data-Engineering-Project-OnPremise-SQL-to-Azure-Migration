{
 "cells": [
  {
   "cell_type": "code",
   "execution_count": 0,
   "metadata": {
    "application/vnd.databricks.v1+cell": {
     "cellMetadata": {
      "byteLimit": 2048000,
      "rowLimit": 10000
     },
     "inputWidgets": {},
     "nuid": "6fb9cf63-89d2-4804-a80a-3d6a1c0293ad",
     "showTitle": false,
     "tableResultSettingsMap": {},
     "title": ""
    }
   },
   "outputs": [],
   "source": [
    "table_name = []\n",
    "\n",
    "for i in dbutils.fs.ls('mnt/silver/SalesLT/'):\n",
    "  table_name.append(i.name.split('/')[0])"
   ]
  },
  {
   "cell_type": "code",
   "execution_count": 0,
   "metadata": {
    "application/vnd.databricks.v1+cell": {
     "cellMetadata": {
      "byteLimit": 2048000,
      "rowLimit": 10000
     },
     "inputWidgets": {},
     "nuid": "dee7eca9-f9ee-4388-abdc-80c4b069c06a",
     "showTitle": false,
     "tableResultSettingsMap": {},
     "title": ""
    }
   },
   "outputs": [],
   "source": [
    "for name in table_name:\n",
    "    path = '/mnt/silver/SalesLT/' + name\n",
    "    print(f\"Reading from: {path}\")\n",
    "    \n",
    "    # Read the data\n",
    "    df = spark.read.format('delta').load(path)\n",
    "    \n",
    "    # Get the column names\n",
    "    column_names = df.columns\n",
    "    \n",
    "    # Rename columns from CamelCase to snake_case\n",
    "    for old_col_name in column_names:\n",
    "        new_col_name = \"\".join([\"_\" + char.lower() if char.isupper() and (i > 0 and not old_col_name[i - 1].isupper()) else char.lower() for i, char in enumerate(old_col_name)])\n",
    "        df = df.withColumnRenamed(old_col_name, new_col_name)\n",
    "    \n",
    "    # Write the transformed DataFrame to the output path\n",
    "    output_path = f'/mnt/gold/SalesLT/{name}/'\n",
    "    print(f\"Writing to: {output_path}\")\n",
    "    df.write.format('delta').mode(\"overwrite\").save(output_path)\n"
   ]
  },
  {
   "cell_type": "code",
   "execution_count": 0,
   "metadata": {
    "application/vnd.databricks.v1+cell": {
     "cellMetadata": {
      "byteLimit": 2048000,
      "rowLimit": 10000
     },
     "inputWidgets": {},
     "nuid": "57d0abc2-3776-4550-93f2-d9267a85c0db",
     "showTitle": false,
     "tableResultSettingsMap": {},
     "title": ""
    }
   },
   "outputs": [],
   "source": [
    "display(df)"
   ]
  }
 ],
 "metadata": {
  "application/vnd.databricks.v1+notebook": {
   "computePreferences": null,
   "dashboards": [],
   "environmentMetadata": {
    "base_environment": "",
    "environment_version": "2"
   },
   "language": "python",
   "notebookMetadata": {
    "pythonIndentUnit": 4
   },
   "notebookName": "silver to gold",
   "widgets": {}
  },
  "language_info": {
   "name": "python"
  }
 },
 "nbformat": 4,
 "nbformat_minor": 0
}
